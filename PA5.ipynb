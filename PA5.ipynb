{
  "nbformat": 4,
  "nbformat_minor": 0,
  "metadata": {
    "colab": {
      "name": "PA5.ipynb",
      "provenance": [],
      "authorship_tag": "ABX9TyNPkEwn25jb2h2eY13NzXBz",
      "include_colab_link": true
    },
    "kernelspec": {
      "name": "python3",
      "display_name": "Python 3"
    },
    "language_info": {
      "name": "python"
    }
  },
  "cells": [
    {
      "cell_type": "markdown",
      "metadata": {
        "id": "view-in-github",
        "colab_type": "text"
      },
      "source": [
        "<a href=\"https://colab.research.google.com/github/aditishree123/NetworkSecurityPA0/blob/main/PA5.ipynb\" target=\"_parent\"><img src=\"https://colab.research.google.com/assets/colab-badge.svg\" alt=\"Open In Colab\"/></a>"
      ]
    },
    {
      "cell_type": "code",
      "source": [
        "import random"
      ],
      "metadata": {
        "id": "oCX1fCJJHa97"
      },
      "execution_count": 1,
      "outputs": []
    },
    {
      "cell_type": "code",
      "execution_count": 3,
      "metadata": {
        "id": "nTZPmJrXCxZ0"
      },
      "outputs": [],
      "source": [
        "def power(a,b,c):\n",
        "  x = 1\n",
        "  y = a\n",
        "  while b > 0:\n",
        "    if b % 2 == 0:\n",
        "      x = (x * y) % c;\n",
        "    y = (y * y) % c\n",
        "    b = int(b / 2)\n",
        "  return x % c\n"
      ]
    },
    {
      "cell_type": "code",
      "source": [
        "def gcd(a, b):\n",
        "    if a < b:\n",
        "        return gcd(b, a)\n",
        "    elif a % b == 0:\n",
        "        return b;\n",
        "    else:\n",
        "        return gcd(b, a % b)"
      ],
      "metadata": {
        "id": "ubwp_Ez-EnVf"
      },
      "execution_count": 4,
      "outputs": []
    },
    {
      "cell_type": "code",
      "source": [
        "def random_key(q):\n",
        "    a = random.randint(pow(10, 20), q)\n",
        "    while gcd(a, q) != 1:\n",
        "        a = random.randint(pow(10, 20), q)\n",
        "    return a"
      ],
      "metadata": {
        "id": "0v-11ozGEnch"
      },
      "execution_count": 2,
      "outputs": []
    },
    {
      "cell_type": "code",
      "source": [
        "msg=input(\"Enter the message:\")\n",
        "q=random.randint(pow(10,20),pow(10,50))\n",
        "g=random.randint(2,q)\n",
        "key=random_key(q) # private key of sender\n",
        "h=power(g,key,q)\n",
        "print(\"g generated=\",g)\n",
        "print(\"g^key used=\",h)\n"
      ],
      "metadata": {
        "colab": {
          "base_uri": "https://localhost:8080/"
        },
        "id": "5WlZ5b-cPKog",
        "outputId": "3a842dec-8a9a-4701-af58-a38a31de8ce7"
      },
      "execution_count": 18,
      "outputs": [
        {
          "output_type": "stream",
          "name": "stdout",
          "text": [
            "Enter the message:NetworkSecurity\n",
            "g generated= 69907766821915461422735564268896687118467090622782\n",
            "g^key used= 84034405616527598797621405950167240050623389625084\n"
          ]
        }
      ]
    },
    {
      "cell_type": "code",
      "source": [
        "ct=[]\n",
        "k=random_key(q)\n",
        "s=power(h,k,q)\n",
        "p=power(g,k,q)\n",
        "for i in range(0,len(msg)):\n",
        "    ct.append(msg[i])\n",
        "print(\"g^k used= \",p)\n",
        "print(\"g^ak used= \",s)\n",
        "for i in range(0,len(ct)):\n",
        "    ct[i]=s*ord(ct[i])\n"
      ],
      "metadata": {
        "colab": {
          "base_uri": "https://localhost:8080/"
        },
        "id": "-dIrY6S1PRh6",
        "outputId": "d63599ee-601b-4270-ca54-f7c03959c837"
      },
      "execution_count": 19,
      "outputs": [
        {
          "output_type": "stream",
          "name": "stdout",
          "text": [
            "g^k used=  51488625781090607333346344075510830375626298255533\n",
            "g^ak used=  45956026023779540070235563078331649731177134888584\n"
          ]
        }
      ]
    },
    {
      "cell_type": "code",
      "source": [
        "pt=[]\n",
        "h=power(p,key,q)\n",
        "for i in range(0,len(ct)):\n",
        "  pt.append(chr(int(ct[i]/h)))\n",
        "d_msg=''.join(pt)\n",
        "print(\"Decryted Message=\",d_msg)"
      ],
      "metadata": {
        "colab": {
          "base_uri": "https://localhost:8080/"
        },
        "id": "AhBr-RYDPo8K",
        "outputId": "51102de9-6631-4166-c10e-9bd5435f552a"
      },
      "execution_count": 20,
      "outputs": [
        {
          "output_type": "stream",
          "name": "stdout",
          "text": [
            "Decryted Message= NetworkSecurity\n"
          ]
        }
      ]
    }
  ]
}